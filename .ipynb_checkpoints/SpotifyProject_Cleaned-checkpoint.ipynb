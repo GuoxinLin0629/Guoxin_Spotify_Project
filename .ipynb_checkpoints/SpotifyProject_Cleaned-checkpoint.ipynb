{
 "cells": [
  {
   "cell_type": "code",
   "execution_count": 51,
   "id": "8135d82a-163f-4777-8157-05678540c386",
   "metadata": {},
   "outputs": [],
   "source": [
    "import requests\n",
    "import openai\n",
    "import spotipy\n",
    "from spotipy.oauth2 import SpotifyOAuth\n",
    "import webbrowser\n",
    "import json\n",
    "import requests\n",
    "import pandas as pd\n",
    "import time"
   ]
  },
  {
   "cell_type": "code",
   "execution_count": 52,
   "id": "12f8afb3-e1cd-4f10-8f8b-a223e92ddd7a",
   "metadata": {},
   "outputs": [],
   "source": [
    "path = 'Coordinares.csv'\n",
    "datas = pd.read_csv(path)"
   ]
  },
  {
   "cell_type": "code",
   "execution_count": 53,
   "id": "cbdac3d6-0290-4cb8-949f-940f62fbe055",
   "metadata": {},
   "outputs": [
    {
     "data": {
      "text/html": [
       "<div>\n",
       "<style scoped>\n",
       "    .dataframe tbody tr th:only-of-type {\n",
       "        vertical-align: middle;\n",
       "    }\n",
       "\n",
       "    .dataframe tbody tr th {\n",
       "        vertical-align: top;\n",
       "    }\n",
       "\n",
       "    .dataframe thead th {\n",
       "        text-align: right;\n",
       "    }\n",
       "</style>\n",
       "<table border=\"1\" class=\"dataframe\">\n",
       "  <thead>\n",
       "    <tr style=\"text-align: right;\">\n",
       "      <th></th>\n",
       "      <th>Latitude</th>\n",
       "      <th>Longitude</th>\n",
       "    </tr>\n",
       "  </thead>\n",
       "  <tbody>\n",
       "    <tr>\n",
       "      <th>0</th>\n",
       "      <td>51.47942</td>\n",
       "      <td>-0.29300</td>\n",
       "    </tr>\n",
       "    <tr>\n",
       "      <th>1</th>\n",
       "      <td>60.86550</td>\n",
       "      <td>7.11743</td>\n",
       "    </tr>\n",
       "    <tr>\n",
       "      <th>2</th>\n",
       "      <td>60.39250</td>\n",
       "      <td>5.34701</td>\n",
       "    </tr>\n",
       "    <tr>\n",
       "      <th>3</th>\n",
       "      <td>60.86542</td>\n",
       "      <td>7.11769</td>\n",
       "    </tr>\n",
       "    <tr>\n",
       "      <th>4</th>\n",
       "      <td>60.86469</td>\n",
       "      <td>7.11900</td>\n",
       "    </tr>\n",
       "    <tr>\n",
       "      <th>5</th>\n",
       "      <td>59.86933</td>\n",
       "      <td>10.71787</td>\n",
       "    </tr>\n",
       "    <tr>\n",
       "      <th>6</th>\n",
       "      <td>51.51996</td>\n",
       "      <td>-0.09318</td>\n",
       "    </tr>\n",
       "    <tr>\n",
       "      <th>7</th>\n",
       "      <td>59.86905</td>\n",
       "      <td>10.71736</td>\n",
       "    </tr>\n",
       "    <tr>\n",
       "      <th>8</th>\n",
       "      <td>60.39449</td>\n",
       "      <td>5.34263</td>\n",
       "    </tr>\n",
       "    <tr>\n",
       "      <th>9</th>\n",
       "      <td>51.51952</td>\n",
       "      <td>-0.09428</td>\n",
       "    </tr>\n",
       "    <tr>\n",
       "      <th>10</th>\n",
       "      <td>51.46190</td>\n",
       "      <td>-0.02903</td>\n",
       "    </tr>\n",
       "    <tr>\n",
       "      <th>11</th>\n",
       "      <td>51.50288</td>\n",
       "      <td>-0.20493</td>\n",
       "    </tr>\n",
       "    <tr>\n",
       "      <th>12</th>\n",
       "      <td>60.39477</td>\n",
       "      <td>5.34239</td>\n",
       "    </tr>\n",
       "    <tr>\n",
       "      <th>13</th>\n",
       "      <td>60.39358</td>\n",
       "      <td>5.34466</td>\n",
       "    </tr>\n",
       "    <tr>\n",
       "      <th>14</th>\n",
       "      <td>59.86895</td>\n",
       "      <td>10.71705</td>\n",
       "    </tr>\n",
       "    <tr>\n",
       "      <th>15</th>\n",
       "      <td>51.13253</td>\n",
       "      <td>1.34426</td>\n",
       "    </tr>\n",
       "    <tr>\n",
       "      <th>16</th>\n",
       "      <td>60.65419</td>\n",
       "      <td>6.44386</td>\n",
       "    </tr>\n",
       "    <tr>\n",
       "      <th>17</th>\n",
       "      <td>51.49312</td>\n",
       "      <td>-0.09710</td>\n",
       "    </tr>\n",
       "  </tbody>\n",
       "</table>\n",
       "</div>"
      ],
      "text/plain": [
       "    Latitude  Longitude\n",
       "0   51.47942   -0.29300\n",
       "1   60.86550    7.11743\n",
       "2   60.39250    5.34701\n",
       "3   60.86542    7.11769\n",
       "4   60.86469    7.11900\n",
       "5   59.86933   10.71787\n",
       "6   51.51996   -0.09318\n",
       "7   59.86905   10.71736\n",
       "8   60.39449    5.34263\n",
       "9   51.51952   -0.09428\n",
       "10  51.46190   -0.02903\n",
       "11  51.50288   -0.20493\n",
       "12  60.39477    5.34239\n",
       "13  60.39358    5.34466\n",
       "14  59.86895   10.71705\n",
       "15  51.13253    1.34426\n",
       "16  60.65419    6.44386\n",
       "17  51.49312   -0.09710"
      ]
     },
     "execution_count": 53,
     "metadata": {},
     "output_type": "execute_result"
    }
   ],
   "source": [
    "# Show all my data\n",
    "datas[0:18]"
   ]
  },
  {
   "cell_type": "code",
   "execution_count": 54,
   "id": "64e5c191-1d73-4a11-bc55-ba98c28ca0b1",
   "metadata": {},
   "outputs": [],
   "source": [
    "# OpenCage_key\n",
    "\n",
    "with open (\"OpenCage_key.txt\",'r') as key_file:\n",
    "    OpenCage_key = key_file.read()\n",
    "key_file.close()"
   ]
  },
  {
   "cell_type": "code",
   "execution_count": 55,
   "id": "d2762c38-dfb0-477f-bf1c-0b19d34bf22f",
   "metadata": {},
   "outputs": [
    {
     "name": "stdout",
     "output_type": "stream",
     "text": [
      "Location: Royal Botanic Gardens, Kew, Brentford High Street, London, TW8 0DS, United Kingdom, City: London, Country: United Kingdom\n"
     ]
    }
   ],
   "source": [
    "# show coodinate to location\n",
    "\n",
    "def get_location_name(latitude, longitude):\n",
    "    api_key = OpenCage_key\n",
    "    url = f'https://api.opencagedata.com/geocode/v1/json?q={latitude}+{longitude}&key={api_key}'\n",
    "    response = requests.get(url)\n",
    "    data = response.json()\n",
    "\n",
    "    if data['results']:\n",
    "        location = data['results'][0]['formatted']\n",
    "        components = data['results'][0]['components']\n",
    "        city = components.get('city', '')\n",
    "        country = components.get('country', '')\n",
    "        return location, city, country\n",
    "    else:\n",
    "        return None, None, None\n",
    "\n",
    "latitude = 51.47942\n",
    "longitude = -0.29300\n",
    "location, city, country = get_location_name(latitude, longitude)\n",
    "print(f\"Location: {location}, City: {city}, Country: {country}\")\n"
   ]
  },
  {
   "cell_type": "code",
   "execution_count": 56,
   "id": "d62fe079-0102-4154-aa3b-743abc72d739",
   "metadata": {},
   "outputs": [],
   "source": [
    "data = pd.read_csv('Coordinares.csv')"
   ]
  },
  {
   "cell_type": "code",
   "execution_count": 57,
   "id": "2736535e-fdce-48c5-aaf6-4ce852bc48df",
   "metadata": {},
   "outputs": [],
   "source": [
    "data['Location'] = None\n",
    "data['City'] = None\n",
    "data['Country'] = None"
   ]
  },
  {
   "cell_type": "code",
   "execution_count": 58,
   "id": "4039e070-59fc-4499-af56-ed77b68cf01e",
   "metadata": {},
   "outputs": [],
   "source": [
    "for index, row in data.iterrows():\n",
    "    latitude = row['Latitude']\n",
    "    longitude = row['Longitude']\n",
    "    location, city, country = get_location_name(latitude, longitude)\n",
    "    \n",
    "    # Store the retrieved results in the DataFrame\n",
    "    data.at[index, 'Location'] = location\n",
    "    data.at[index, 'City'] = city\n",
    "    data.at[index, 'Country'] = country"
   ]
  },
  {
   "cell_type": "code",
   "execution_count": 59,
   "id": "04d14ec7-8258-4165-8a0f-84e549e7f21c",
   "metadata": {},
   "outputs": [
    {
     "name": "stdout",
     "output_type": "stream",
     "text": [
      "Processed 18/18: Location: The Tree House, Sayer Street, London, SE17 1FU, United Kingdom, City: London, Country: United Kingdom\n"
     ]
    }
   ],
   "source": [
    "print(f\"Processed {index + 1}/{len(data)}: Location: {location}, City: {city}, Country: {country}\")"
   ]
  },
  {
   "cell_type": "code",
   "execution_count": 60,
   "id": "70fc4f8b-84e7-4932-9579-f44670bc4554",
   "metadata": {},
   "outputs": [
    {
     "name": "stdout",
     "output_type": "stream",
     "text": [
      "Data with added location information (first 18 rows):\n",
      "    Latitude  Longitude                                           Location  \\\n",
      "0   51.47942   -0.29300  Royal Botanic Gardens, Kew, Brentford High Str...   \n",
      "1   60.86550    7.11743         5016, Nedre Brekkevegen, 5743 Flåm, Norway   \n",
      "2   60.39250    5.34701                    Byfjellene, 5019 Bergen, Norway   \n",
      "3   60.86542    7.11769         5016, Nedre Brekkevegen, 5743 Flåm, Norway   \n",
      "4   60.86469    7.11900                     A-feltvegen, 5743 Flåm, Norway   \n",
      "5   59.86933   10.71787        Langøyene, German Bunker, 0252 Oslo, Norway   \n",
      "6   51.51996   -0.09318  Frobisher Crescent, Barbican, London, EC2Y 8HD...   \n",
      "7   59.86905   10.71736        Langøyene, German Bunker, 0252 Oslo, Norway   \n",
      "8   60.39449    5.34263   Martensgården, unnamed road, 5019 Bergen, Norway   \n",
      "9   51.51952   -0.09428  Defoe House, Lakeside Terrace, Barbican, Londo...   \n",
      "10  51.46190   -0.02903  Hilly Fields Crescent, London, SE4 1QA, United...   \n",
      "11  51.50288   -0.20493  Kyoto Garden, Abbotsbury Road, London, W14 8EL...   \n",
      "12  60.39477    5.34239   Martensgården, unnamed road, 5019 Bergen, Norway   \n",
      "13  60.39358    5.34466    Martensgården, Fløyfjellet, 5019 Bergen, Norway   \n",
      "14  59.86895   10.71705        Langøyene, German Bunker, 0252 Oslo, Norway   \n",
      "15  51.13253    1.34426  H.M. Coastguard, Upper Road, St. Margaret's at...   \n",
      "16  60.65419    6.44386       Nedkvitnesvegen 25, 5710 Skulestadmo, Norway   \n",
      "17  51.49312   -0.09710  The Tree House, Sayer Street, London, SE17 1FU...   \n",
      "\n",
      "      City         Country  \n",
      "0   London  United Kingdom  \n",
      "1                   Norway  \n",
      "2   Bergen          Norway  \n",
      "3                   Norway  \n",
      "4                   Norway  \n",
      "5     Oslo          Norway  \n",
      "6   London  United Kingdom  \n",
      "7     Oslo          Norway  \n",
      "8   Bergen          Norway  \n",
      "9   London  United Kingdom  \n",
      "10  London  United Kingdom  \n",
      "11  London  United Kingdom  \n",
      "12  Bergen          Norway  \n",
      "13  Bergen          Norway  \n",
      "14    Oslo          Norway  \n",
      "15          United Kingdom  \n",
      "16                  Norway  \n",
      "17  London  United Kingdom  \n"
     ]
    }
   ],
   "source": [
    "print(\"Data with added location information (first 18 rows):\")\n",
    "print(data[0:18])"
   ]
  },
  {
   "cell_type": "code",
   "execution_count": 61,
   "id": "5451abdb-2e3b-4052-8b21-f64d7419d016",
   "metadata": {},
   "outputs": [
    {
     "name": "stdout",
     "output_type": "stream",
     "text": [
      "Data with location information has been saved to updated_locations.csv\n"
     ]
    }
   ],
   "source": [
    "data.to_csv('updated_locations.csv', index=False)\n",
    "print(\"Data with location information has been saved to updated_locations.csv\")"
   ]
  },
  {
   "cell_type": "code",
   "execution_count": 62,
   "id": "92e50b61-7119-4fed-b91e-fb29d29c651b",
   "metadata": {},
   "outputs": [
    {
     "name": "stdout",
     "output_type": "stream",
     "text": [
      "Successfully authenticated as 314qipe2nxyhqxkqddeo36x4mk7i\n"
     ]
    }
   ],
   "source": [
    "def get_access_token():\n",
    "    # Load credentials from JSON file\n",
    "    with open('spotify_keys.json') as f:\n",
    "        spotify_keys = json.load(f)\n",
    "\n",
    "    # Use SpotifyOAuth to generate an access token\n",
    "    auth_manager = SpotifyOAuth(\n",
    "        client_id=spotify_keys[\"client_id\"],\n",
    "        client_secret=spotify_keys[\"client_secret\"],\n",
    "        redirect_uri=spotify_keys[\"redirect\"],\n",
    "        scope=\"playlist-modify-public\"\n",
    "    )\n",
    "    \n",
    "    # Create a Spotipy instance and return it\n",
    "    sp = spotipy.Spotify(auth_manager=auth_manager)\n",
    "    return sp\n",
    "\n",
    "# Get the Spotify client instance\n",
    "sp = get_access_token()\n",
    "\n",
    "# Verify if the token was successfully obtained\n",
    "user_id = sp.current_user()['id']\n",
    "print(f\"Successfully authenticated as {user_id}\")"
   ]
  },
  {
   "cell_type": "code",
   "execution_count": 63,
   "id": "86b3bcac-7132-451b-8980-96e18b508ee9",
   "metadata": {},
   "outputs": [],
   "source": [
    "for index, row in data.iterrows():\n",
    "    latitude = row['Latitude']\n",
    "    longitude = row['Longitude']\n",
    "    location, city, country = get_location_name(latitude, longitude)\n",
    "    \n",
    "    # Store the retrieved results in the DataFrame\n",
    "    data.at[index, 'Location'] = location\n",
    "    data.at[index, 'City'] = city\n",
    "    data.at[index, 'Country'] = country"
   ]
  },
  {
   "cell_type": "code",
   "execution_count": 64,
   "id": "1206a798-1cf3-469a-b7bb-d86cc23ca9c1",
   "metadata": {},
   "outputs": [],
   "source": [
    "# open file with keys and set the path to your credentials JSON file\n",
    "credentials = \"spotify_keys.json\"\n",
    "with open(credentials, \"r\") as keys:\n",
    "    api_tokens = json.load(keys)"
   ]
  },
  {
   "cell_type": "code",
   "execution_count": 65,
   "id": "0c6803dc-81d6-43af-bf5d-66d46afd6620",
   "metadata": {},
   "outputs": [],
   "source": [
    "# Load location data from CSV file\n",
    "data = pd.read_csv('updated_locations.csv')"
   ]
  },
  {
   "cell_type": "code",
   "execution_count": 66,
   "id": "a4395391-2832-4771-832c-215d294914ec",
   "metadata": {},
   "outputs": [],
   "source": [
    "# create_playlist_for_location\n",
    "\n",
    "def create_playlist_for_location(latitude, longitude):\n",
    "    playlist_name = f\"Playlist for {latitude}, {longitude}\"\n",
    "    playlist = sp.user_playlist_create(\n",
    "        user=user_id,\n",
    "        name=playlist_name,\n",
    "        public=True,\n",
    "        description=f\"Music inspired by location {latitude}, {longitude}\"\n",
    "    )\n",
    "    \n",
    "    print(f\"Created playlist: {playlist['name']} - {playlist['external_urls']['spotify']}\")\n",
    "    return playlist"
   ]
  },
  {
   "cell_type": "code",
   "execution_count": 67,
   "id": "220c5a05-56fb-4b74-8ec3-431517e7345d",
   "metadata": {},
   "outputs": [],
   "source": [
    "data = pd.DataFrame({\n",
    "    'Address': [\"London\", \"Bergen\", \"Oslo\", \"Bergen\", \"Drammen\"],\n",
    "    'Latitude': [51.47942, 60.3925, 60.3925, 60.3925, 59.7431],\n",
    "    'Longitude': [-0.29300, 5.3299, 10.71787, 5.3299, 10.2043]\n",
    "})"
   ]
  },
  {
   "cell_type": "code",
   "execution_count": 68,
   "id": "d6253a61-4451-4d1b-8f7d-9a15b2b833a0",
   "metadata": {},
   "outputs": [],
   "source": [
    "def create_playlist_for_location(sp, latitude, longitude):\n",
    "    user_id = sp.current_user()['id']  # Get the user ID\n",
    "    playlist_name = f\"Playlist for {latitude}, {longitude}\"\n",
    "    playlist = sp.user_playlist_create(\n",
    "        user=user_id,\n",
    "        name=playlist_name,\n",
    "        public=True,\n",
    "        description=f\"Music inspired by location {latitude}, {longitude}\"\n",
    "    )\n",
    "    \n",
    "    print(f\"Created playlist: {playlist['name']} - {playlist['external_urls']['spotify']}\")\n",
    "    return playlist"
   ]
  },
  {
   "cell_type": "code",
   "execution_count": 76,
   "id": "f49a3c56-77a8-4d79-aba6-7ad911afe61f",
   "metadata": {},
   "outputs": [
    {
     "name": "stdout",
     "output_type": "stream",
     "text": [
      "Created playlist: Playlist for 51.47942, -0.293 - https://open.spotify.com/playlist/5VpN9xel6kowrG1qqUPynQ\n",
      "Added 10 tracks to playlist for 51.47942, -0.293\n",
      "Created playlist: Playlist for 60.3925, 5.3299 - https://open.spotify.com/playlist/7l24wkQQ0enMoelpVIGevO\n",
      "Added 10 tracks to playlist for 60.3925, 5.3299\n",
      "Created playlist: Playlist for 60.3925, 10.71787 - https://open.spotify.com/playlist/6kagRfTKLsAAZWHd271f01\n",
      "Added 10 tracks to playlist for 60.3925, 10.71787\n",
      "Created playlist: Playlist for 60.3925, 5.3299 - https://open.spotify.com/playlist/1D7A8RDfcVUzkKTrAyhUXc\n",
      "Added 10 tracks to playlist for 60.3925, 5.3299\n",
      "Created playlist: Playlist for 59.7431, 10.2043 - https://open.spotify.com/playlist/6gSuHbQPBqvecuqfac2qOW\n",
      "Added 10 tracks to playlist for 59.7431, 10.2043\n"
     ]
    }
   ],
   "source": [
    "# Limit to only 5 outcomes\n",
    "\n",
    "for index, row in data.iterrows():\n",
    "    address = row['Address']  # get address\n",
    "    latitude = row['Latitude']\n",
    "    longitude = row['Longitude']\n",
    "    \n",
    "    try:\n",
    "        # # Create a playlist, ensuring parameters are correctly passed\n",
    "        playlist = create_playlist_for_location(sp, latitude, longitude)\n",
    "\n",
    "        # Search for music using the address\n",
    "        search_query = f\"{address} artist\"\n",
    "        results = sp.search(q=search_query, type=\"track\", limit=10)\n",
    "\n",
    "        # Check search results\n",
    "        if 'tracks' in results and 'items' in results['tracks']:\n",
    "            tracks = [track['uri'] for track in results['tracks']['items']]\n",
    "        \n",
    "            # Add tracks\n",
    "            if tracks:\n",
    "                sp.playlist_add_items(playlist['id'], tracks)\n",
    "                print(f\"Added {len(tracks)} tracks to playlist for {latitude}, {longitude}\")\n",
    "            else:\n",
    "                print(f\"No tracks found for address {address}\")\n",
    "        else:\n",
    "            print(f\"Unexpected search results for address {address}\")\n",
    "\n",
    "    except Exception as e:\n",
    "        print(f\"An error occurred for address {address}: {e}\")\n",
    "\n",
    "    # Add a delay to avoid request rate limits\n",
    "    time.sleep(1)"
   ]
  },
  {
   "cell_type": "code",
   "execution_count": 72,
   "id": "443a20dd-bc41-4134-a975-cb602df51305",
   "metadata": {},
   "outputs": [
    {
     "data": {
      "text/plain": [
       "True"
      ]
     },
     "execution_count": 72,
     "metadata": {},
     "output_type": "execute_result"
    }
   ],
   "source": [
    "playlist_url = \"https://open.spotify.com/playlist/YOUR_PLAYLIST_ID\"\n",
    "webbrowser.open(playlist_url)"
   ]
  }
 ],
 "metadata": {
  "kernelspec": {
   "display_name": "Python 3 (ipykernel)",
   "language": "python",
   "name": "python3"
  },
  "language_info": {
   "codemirror_mode": {
    "name": "ipython",
    "version": 3
   },
   "file_extension": ".py",
   "mimetype": "text/x-python",
   "name": "python",
   "nbconvert_exporter": "python",
   "pygments_lexer": "ipython3",
   "version": "3.12.7"
  }
 },
 "nbformat": 4,
 "nbformat_minor": 5
}
